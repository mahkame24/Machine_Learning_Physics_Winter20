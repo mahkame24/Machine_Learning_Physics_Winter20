{
 "cells": [
  {
   "cell_type": "code",
   "execution_count": 1,
   "metadata": {
    "ExecuteTime": {
     "end_time": "2020-04-19T09:30:38.383414Z",
     "start_time": "2020-04-19T09:30:36.450669Z"
    }
   },
   "outputs": [],
   "source": [
    "import numpy as np\n",
    "import pandas as pd\n",
    "import matplotlib.pyplot as plt\n",
    "\n",
    "\n",
    "from matplotlib import style\n",
    "plt.style.use('seaborn-talk')\n",
    "\n",
    "# import warnings\n",
    "# warnings.filterwarnings('ignore')"
   ]
  },
  {
   "cell_type": "code",
   "execution_count": null,
   "metadata": {},
   "outputs": [],
   "source": [
    "## You probably would need to define some functions here. \n",
    "## Cross-entropy, relu, ..."
   ]
  },
  {
   "cell_type": "markdown",
   "metadata": {},
   "source": [
    "# Implementation of NN"
   ]
  },
  {
   "cell_type": "code",
   "execution_count": null,
   "metadata": {},
   "outputs": [],
   "source": [
    "### Make your own NN\n"
   ]
  },
  {
   "cell_type": "markdown",
   "metadata": {},
   "source": [
    "# Examples 1"
   ]
  },
  {
   "cell_type": "code",
   "execution_count": null,
   "metadata": {},
   "outputs": [],
   "source": [
    "# Test your model on the following data\n",
    "'''\n",
    "Let's make an example and see how this works.\n",
    "'''\n",
    "x1 = np.linspace(0,2)\n",
    "x1, x2 = np.meshgrid(x1, x1)\n",
    "X = np.array([x1, x2])\n",
    "print(X.shape)\n",
    "\n",
    "def Charkhoune(x):\n",
    "    return np.logical_xor(x[0]>1 , x[1]>1)\n",
    "\n",
    "Y = Charkhoune(X).astype(int)\n",
    "plt.scatter(X[0], X[1], c = Y)\n",
    "plt.show()"
   ]
  },
  {
   "cell_type": "code",
   "execution_count": null,
   "metadata": {},
   "outputs": [],
   "source": [
    "# Define and train your model\n",
    "# Also Plot the loss"
   ]
  },
  {
   "cell_type": "code",
   "execution_count": null,
   "metadata": {},
   "outputs": [],
   "source": [
    "# Compare to the actual data\n",
    "\n",
    "# The following should be adjusted based on your model. \n",
    "y_pred = model.predict(X.reshape(2,-1)).reshape(x1.shape)\n",
    "\n",
    "fig = plt.figure(figsize=(15,6))\n",
    "ax = fig.add_subplot(121, xlabel='X1', ylabel='X2', title='The actual data')\n",
    "plt.scatter(X[0], X[1], c = Y)\n",
    "\n",
    "ax = fig.add_subplot(122, xlabel='X1', ylabel='X2', title='Prediction of the NN')\n",
    "plt.scatter(X[0], X[1], c = y_pred)\n",
    "\n",
    "plt.show()\n",
    "plt.close()"
   ]
  },
  {
   "cell_type": "markdown",
   "metadata": {},
   "source": [
    "# Examples 2"
   ]
  },
  {
   "cell_type": "code",
   "execution_count": null,
   "metadata": {},
   "outputs": [],
   "source": [
    "# url = 'https://raw.githubusercontent.com/sraeisi/Machine_Learning_Physics_Winter20/master/Lec1/particle_mini.npz'\n",
    "# s=requests.get(url, stream=True).content\n",
    "# data=np.load(io.BytesIO(s) )\n",
    "\n",
    "data = np.load( 'particle_mini.npz' )\n",
    "X, Y = data['X'], data['Y']\n",
    "\n",
    "# The labels are 1 or 2. So we need to turn them into 0 and  1. \n",
    "Y = (Y>1.5).astype(int)"
   ]
  },
  {
   "cell_type": "code",
   "execution_count": null,
   "metadata": {},
   "outputs": [],
   "source": [
    "## Define and train your model"
   ]
  },
  {
   "cell_type": "code",
   "execution_count": null,
   "metadata": {},
   "outputs": [],
   "source": [
    "# compare to the actual labels\n",
    "\n",
    "#predictions of the model for test set\n",
    "y_predict = (model.predict(X_test.T)>.5).astype(int)\n",
    "\n",
    "x1_list, x2_list = grid(X[:,0], X[:,1], n_points=70)\n",
    "X_grid = np.vstack([x1_list.reshape(-1),x2_list.reshape(-1)]).T\n",
    "Y_grid = model.predict( X_grid.T ).reshape(x1_list.shape )\n",
    "\n",
    "fig = plt.figure(figsize=(15,5))\n",
    "ax = fig.add_subplot(121 , xlabel = 'X1', ylabel='X2', title = 'Result of the Classification')\n",
    "    \n",
    "ax.contourf(x1_list, x2_list, Y_grid, alpha=.4, cmap=plt.cm.coolwarm)\n",
    "ax.scatter(*X.T, c=Y)    \n",
    "ax.text(3, 1.4, f'Accuracy: {np.round( model.score(X_test.T, Y_test) , 3)}' , fontsize=20)\n",
    "\n",
    "ax = fig.add_subplot(122 , xlabel = 'X1', ylabel='X2', title = 'Predicitions of the NN')\n",
    "plt.scatter(*X_test.T, c = y_predict.reshape(-1))\n",
    "\n",
    "\n",
    "plt.tight_layout()\n",
    "plt.show()"
   ]
  }
 ],
 "metadata": {
  "kernelspec": {
   "display_name": "Python 3",
   "language": "python",
   "name": "python3"
  },
  "language_info": {
   "codemirror_mode": {
    "name": "ipython",
    "version": 3
   },
   "file_extension": ".py",
   "mimetype": "text/x-python",
   "name": "python",
   "nbconvert_exporter": "python",
   "pygments_lexer": "ipython3",
   "version": "3.6.10"
  },
  "latex_envs": {
   "LaTeX_envs_menu_present": true,
   "autoclose": false,
   "autocomplete": true,
   "bibliofile": "biblio.bib",
   "cite_by": "apalike",
   "current_citInitial": 1,
   "eqLabelWithNumbers": true,
   "eqNumInitial": 1,
   "hotkeys": {
    "equation": "Ctrl-E",
    "itemize": "Ctrl-I"
   },
   "labels_anchors": false,
   "latex_user_defs": false,
   "report_style_numbering": false,
   "user_envs_cfg": false
  },
  "toc": {
   "base_numbering": 1,
   "nav_menu": {},
   "number_sections": true,
   "sideBar": true,
   "skip_h1_title": false,
   "title_cell": "Table of Contents",
   "title_sidebar": "Contents",
   "toc_cell": false,
   "toc_position": {},
   "toc_section_display": true,
   "toc_window_display": false
  },
  "varInspector": {
   "cols": {
    "lenName": 16,
    "lenType": 16,
    "lenVar": 40
   },
   "kernels_config": {
    "python": {
     "delete_cmd_postfix": "",
     "delete_cmd_prefix": "del ",
     "library": "var_list.py",
     "varRefreshCmd": "print(var_dic_list())"
    },
    "r": {
     "delete_cmd_postfix": ") ",
     "delete_cmd_prefix": "rm(",
     "library": "var_list.r",
     "varRefreshCmd": "cat(var_dic_list()) "
    }
   },
   "types_to_exclude": [
    "module",
    "function",
    "builtin_function_or_method",
    "instance",
    "_Feature"
   ],
   "window_display": false
  }
 },
 "nbformat": 4,
 "nbformat_minor": 4
}
