{
 "cells": [
  {
   "cell_type": "markdown",
   "metadata": {
    "colab_type": "text",
    "id": "view-in-github"
   },
   "source": [
    "<a href=\"https://colab.research.google.com/github/sraeisi/Machine_Learning_Physics_Winter20/blob/master/Chpt4/NN_Intro.ipynb\" target=\"_parent\"><img src=\"https://colab.research.google.com/assets/colab-badge.svg\" alt=\"Open In Colab\"/></a>"
   ]
  },
  {
   "cell_type": "code",
   "execution_count": 1,
   "metadata": {
    "ExecuteTime": {
     "end_time": "2020-04-07T06:50:53.187559Z",
     "start_time": "2020-04-07T06:50:52.591696Z"
    },
    "colab": {},
    "colab_type": "code",
    "id": "pyRSpnrE8Y3E"
   },
   "outputs": [],
   "source": [
    "import numpy as np\n",
    "import pandas as pd\n",
    "import matplotlib.pyplot as plt"
   ]
  },
  {
   "cell_type": "code",
   "execution_count": 2,
   "metadata": {
    "ExecuteTime": {
     "end_time": "2020-04-07T06:50:53.242587Z",
     "start_time": "2020-04-07T06:50:53.238560Z"
    },
    "colab": {},
    "colab_type": "code",
    "id": "TIBU-WoF8Y3Q"
   },
   "outputs": [],
   "source": [
    "def sigmoid(x):\n",
    "    return 1 / (1 + np.exp(-x))"
   ]
  },
  {
   "cell_type": "code",
   "execution_count": 3,
   "metadata": {
    "ExecuteTime": {
     "end_time": "2020-04-07T06:50:53.746568Z",
     "start_time": "2020-04-07T06:50:53.737565Z"
    }
   },
   "outputs": [],
   "source": [
    "def grid(x1, x2, off_set = .1, n_points = 100):\n",
    "    ## d s show the range in the two varible. \n",
    "    d1 = x1.max() - x1.min()\n",
    "    d2 = x2.max() - x2.min()\n",
    "    \n",
    "    x1_min, x1_max = x1.min() - off_set * d1 , x1.max() + off_set * d1\n",
    "    x2_min, x2_max = x2.min() - off_set * d2 , x2.max() + off_set * d2\n",
    "\n",
    "    ## This function from numpy gives a list of coordinates that are the points on the grid. \n",
    "    x, y = np.meshgrid(np.arange(x1_min, x1_max , d1/n_points), np.arange(x2_min, x2_max , d2/n_points) )\n",
    "\n",
    "    return x , y "
   ]
  },
  {
   "cell_type": "markdown",
   "metadata": {
    "colab_type": "text",
    "heading_collapsed": true,
    "id": "6cC5C4jjKNjd"
   },
   "source": [
    "# Logistic Regression: The simplest Neural Network (NN)"
   ]
  },
  {
   "cell_type": "markdown",
   "metadata": {
    "colab_type": "text",
    "hidden": true,
    "id": "praJkn8I8Y3X"
   },
   "source": [
    "We start with a simple Logistic regression. \n",
    "\n",
    "We can use computation graphs for representation which would look like:\n",
    "\n",
    "![Simple Logistic Regression](https://www.dropbox.com/s/5ql7mpu9uwim8xk/computationGraph_LR.png?dl=1 )\n",
    "\n",
    "For our purposses, it is more convenient to seperate the parameters\n",
    "\n",
    "![alt text](https://www.dropbox.com/s/pxrmeyz3uwwb95i/computationGraph_LR_2.png?dl=1)\n",
    "\n",
    "We can simplify this a bit to get\n",
    "\n",
    "![alt text](https://www.dropbox.com/s/8hspbepvubgu1ia/computationGraph_LR_simplified.png?dl=1)\n",
    "\n",
    "\n",
    "\n"
   ]
  },
  {
   "cell_type": "code",
   "execution_count": 0,
   "metadata": {
    "colab": {},
    "colab_type": "code",
    "hidden": true,
    "id": "l83ITgxU8Y3Z"
   },
   "outputs": [],
   "source": [
    "'''\n",
    "Ideally, we should train the estimator and find the\n",
    "w and b that minimizes the loss. However, the following\n",
    "function makes no assumption about the w and b. \n",
    "The inputs are numpy arrays and their shapes are\n",
    "x: (1, n_f)\n",
    "w: (1, n_f)  \n",
    "b: (1  , 1) \n",
    "'''\n",
    "def log_reg_predict(x, w, b ):\n",
    "    return sigmoid( np.dot(x, w.T) + b )"
   ]
  },
  {
   "cell_type": "code",
   "execution_count": 4,
   "metadata": {
    "colab": {
     "base_uri": "https://localhost:8080/",
     "height": 34
    },
    "colab_type": "code",
    "hidden": true,
    "id": "HIdaSmaT8Y3f",
    "outputId": "32a4e0c4-972d-4459-f7df-9356de2f7219"
   },
   "outputs": [
    {
     "data": {
      "text/plain": [
       "array([[0.52827282]])"
      ]
     },
     "execution_count": 4,
     "metadata": {
      "tags": []
     },
     "output_type": "execute_result"
    }
   ],
   "source": [
    "x = np.random.uniform(-1,1,size=[1,2])\n",
    "w = np.random.uniform(-1,1,size=[1,2])\n",
    "b = np.random.uniform(-1,1,size=[1,1])\n",
    "predicted_y = log_reg_predict(x,w,b)\n",
    "predicted_y"
   ]
  },
  {
   "cell_type": "code",
   "execution_count": 5,
   "metadata": {
    "colab": {
     "base_uri": "https://localhost:8080/",
     "height": 34
    },
    "colab_type": "code",
    "hidden": true,
    "id": "G7oWbXBD-hSC",
    "outputId": "e8850b64-0896-4eef-db97-cc46ad0f48fe"
   },
   "outputs": [
    {
     "data": {
      "text/plain": [
       "(100, 1)"
      ]
     },
     "execution_count": 5,
     "metadata": {
      "tags": []
     },
     "output_type": "execute_result"
    }
   ],
   "source": [
    "### This would work with a list of samples.\n",
    "n_s = 100  # number of samples\n",
    "\n",
    "x = np.random.uniform(-1,1,size=[n_s,2])\n",
    "w = np.random.uniform(-1,1,size=[1,2])\n",
    "b = np.random.uniform(-1,1,size=[1,1])\n",
    "predicted_y = log_reg_predict(x,w,b)\n",
    "predicted_y.shape\n"
   ]
  },
  {
   "cell_type": "code",
   "execution_count": 7,
   "metadata": {
    "colab": {
     "base_uri": "https://localhost:8080/",
     "height": 34
    },
    "colab_type": "code",
    "hidden": true,
    "id": "0-InY7ZH3n3D",
    "outputId": "7ce9aa9c-1ab6-4f6e-d126-6bb40a76be8a"
   },
   "outputs": [
    {
     "data": {
      "text/plain": [
       "3.426586902722116e-07"
      ]
     },
     "execution_count": 7,
     "metadata": {
      "tags": []
     },
     "output_type": "execute_result"
    }
   ],
   "source": [
    "## Generate the grid\n",
    "n_points = 40  ## Number of points along each axis of the grid. \n",
    "xrange=np.linspace(-10,10,n_points)  ## We let the two features change from between -10 and 10 and we pick 40 points to sample.\n",
    "X0,X1=np.meshgrid(xrange,xrange)\n",
    "input_x = np.array([X0, X1]).T\n",
    "\n",
    "z = np.array([log_reg_predict(x,w,b) for x in input_x]).reshape(n_points, n_points)\n",
    "z[0,0]"
   ]
  },
  {
   "cell_type": "code",
   "execution_count": 8,
   "metadata": {
    "colab": {
     "base_uri": "https://localhost:8080/",
     "height": 310
    },
    "colab_type": "code",
    "hidden": true,
    "id": "TgK-GEB42ymm",
    "outputId": "e08b3e10-1ca0-47fc-c1e5-ee56fe6dd69e"
   },
   "outputs": [
    {
     "data": {
      "image/png": "[encoded data removed]",
      "text/plain": [
       "<Figure size 864x288 with 3 Axes>"
      ]
     },
     "metadata": {
      "tags": []
     },
     "output_type": "display_data"
    }
   ],
   "source": [
    "# Plot the result. \n",
    "\n",
    "## Take some random LR\n",
    "w = np.random.uniform(-1,1,size=[1,2])\n",
    "b = np.random.uniform(-1,1,size=[1,1])\n",
    "\n",
    "\n",
    "## Generate the grid\n",
    "n_points = 40  ## Number of points along each axis of the grid. \n",
    "xrange=np.linspace(-10,10,n_points)  ## We let the two features change from between -10 and 10 and we pick 40 points to sample.\n",
    "X0,X1=np.meshgrid(xrange,xrange)\n",
    "input_x = np.array([X0, X1]).T\n",
    "\n",
    "z = np.array([log_reg_predict(x,w,b) for x in input_x]).reshape(n_points, n_points)\n",
    "\n",
    "fig = plt.figure(figsize=(12,4))\n",
    "ax = fig.add_subplot(121, xlabel='X1', ylabel='X2', title='Some random NN')\n",
    "plt.imshow(z,interpolation='nearest',origin='lower', extent=(-10,10,-10,10) , cmap=plt.cm.viridis )\n",
    "plt.colorbar()\n",
    "plt.contour(X0, X1, z, cmap = plt.cm.Accent, linewidths=5)\n",
    "ax.axhline(y=.25, color='r', linestyle='--', linewidth=5)\n",
    "\n",
    "ax = fig.add_subplot(122, xlabel='X1', ylabel='z', title='Some random NN \\n X2 = 0.25')\n",
    "ax.plot(X0[20], z[10], linewidth=5)\n",
    "\n",
    "plt.show()\n",
    "plt.close()"
   ]
  },
  {
   "cell_type": "markdown",
   "metadata": {
    "colab_type": "text",
    "hidden": true,
    "id": "fa4rUSs1boYi"
   },
   "source": [
    "## Multi Class \n",
    "Consider the same problem, but with three classes instead of two. Now the computation graph would be like\n",
    "![alt text](https://www.dropbox.com/s/jryr9f7udnxuetq/computationGraph_LR_simplified_multi_class.png?dl=1)\n",
    "which means that there are three output nodes, one for the probability of each class. How would this work?\n",
    "\n",
    "As we discussed in the first part of the course, we need to train three distinct estimators, one for each class. \n",
    "\n",
    "{ w<sub>1</sub>, b<sub>1</sub> } => Class 1\n",
    "\n",
    "{ w<sub>2</sub>, b<sub>2</sub> } => Class 2\n",
    "\n",
    "{ w<sub>3</sub>, b<sub>3</sub> } => Class 3\n",
    "\n",
    "Just like before, each w<sub>i</sub> is a vector and each b<sub>i</sub> is a number. \n",
    "\n",
    "We can stack them together and make the matrix W with shape of (3,  n<sub>f</sub>) and \n",
    " the matrix B with shape of (3, 1). The rest would be the same. In fact our implementation of the logistic regression would not require any modification.  "
   ]
  },
  {
   "cell_type": "code",
   "execution_count": 0,
   "metadata": {
    "colab": {
     "base_uri": "https://localhost:8080/",
     "height": 34
    },
    "colab_type": "code",
    "hidden": true,
    "id": "wZl5ckz9sOn4",
    "outputId": "5846c2f2-4375-4e6a-cc05-1dfdc2002885"
   },
   "outputs": [
    {
     "data": {
      "text/plain": [
       "(100, 3)"
      ]
     },
     "execution_count": 6,
     "metadata": {
      "tags": []
     },
     "output_type": "execute_result"
    }
   ],
   "source": [
    "n_s = 100  # number of samples\n",
    "n_outputs = 3\n",
    "n_f= 2\n",
    "\n",
    "x = np.random.uniform(-1,1,size=[n_s,n_f])\n",
    "w = np.random.uniform(-1,1,size=[n_outputs,n_f])\n",
    "b = np.random.uniform(-1,1,size=[1, n_outputs])\n",
    "predicted_y = log_reg_predict(x,w,b)\n",
    "predicted_y.shape\n"
   ]
  },
  {
   "cell_type": "markdown",
   "metadata": {
    "colab_type": "text",
    "hidden": true,
    "id": "CF9OFx9dszRz"
   },
   "source": [
    "## Multi Layer\n",
    "\n",
    "Now consider the situation where two logistic regressions are compined to make a new estimator. \n",
    "\n",
    "That is, LR1 is applied to that innput features  and determine the probabilities of different classes. Then LR2 takes these probabilities as an input and based on that determine the probabilities of  a second classification problem. \n",
    "The computation graph would look like\n",
    "\n",
    "![alt text](https://www.dropbox.com/s/9o01doidvs6hmj9/computationGraph_LR_simplified_multi_layer.png?dl=1)  \n",
    "  \n",
    "For charachterization of this estimator, we need two sets of W and B matrices, one for the LR1 and one for LR2. We use the following notation for that:\n",
    "\n",
    "W<sup>[1]</sup> => Weights for LR1\n",
    "\n",
    "B<sup>[1]</sup> => Biases for LR1\n",
    "\n",
    "W<sup>[2]</sup> => Weights for LR1\n",
    "\n",
    "W<sup>[2]</sup> => Biases for LR1\n",
    "\n",
    "As discussed before, W<sup>[1]</sup> is \n",
    "\n",
    "{ w<sup>[1]</sup><sub>1</sub>, b<sub>1</sub> } => Class 1\n",
    "\n",
    "{ w<sup>[1]</sup><sub>2</sub>, b<sub>2</sub> } => Class 2\n",
    "\n",
    "{ w<sup>[1]</sup><sub>3</sub>, b<sub>3</sub> } => Class 3\n",
    "\n",
    "So, each w<sup>[j]</sup><sub>i</sub> is a vector and each b<sup>[j]</sup><sub>i</sub> is a number and they correspond to classification of class i for LR_j. \n",
    "\n",
    "Use what we haev done so far to implement this! \n",
    "\n",
    "(Optional) Design your function such that it work for n_s samples. "
   ]
  },
  {
   "cell_type": "code",
   "execution_count": 0,
   "metadata": {
    "colab": {},
    "colab_type": "code",
    "hidden": true,
    "id": "S5cmPy9XpZMl"
   },
   "outputs": [],
   "source": [
    "'''\n",
    "This function can also be simply implemented using the function we have for a single unit of LR. \n",
    "'''\n",
    "\n",
    "def NN_forward_function(X, w_list, b_list):\n",
    "    ## We use the function log_reg_predict\n",
    "    ## and one by one, proceed to the end \n",
    "    ## of the network. For each layer, we \n",
    "    ## use the outputs of the proceeding layer\n",
    "    ## as input and then save the outputs in a. \n",
    "    a = []\n",
    "    a += [X]\n",
    "    for i in range(len(w_list)):\n",
    "        a += [log_reg_predict(a[-1], w_list[i], b_list[i])]\n",
    "  \n",
    "    return a\n",
    "\n",
    "def NN_forward(w_list, b_list):\n",
    "    ## We want this to return a function of the NN feedforward operation. \n",
    "    def f(X, w_list, b_list):\n",
    "        a = []\n",
    "        a += [X]\n",
    "        for i in range(len(w_list)):\n",
    "            a += [log_reg_predict(a[-1], w_list[i], b_list[i])]\n",
    "  \n",
    "        return a\n",
    "\n",
    "    return f\n",
    "\n",
    "    "
   ]
  },
  {
   "cell_type": "code",
   "execution_count": 0,
   "metadata": {
    "colab": {
     "base_uri": "https://localhost:8080/",
     "height": 35
    },
    "colab_type": "code",
    "hidden": true,
    "id": "AUuh38bzGtyj",
    "outputId": "d0990790-8d4c-4e80-e9ff-9581c943193b"
   },
   "outputs": [
    {
     "data": {
      "text/plain": [
       "(100, 3)"
      ]
     },
     "execution_count": 18,
     "metadata": {
      "tags": []
     },
     "output_type": "execute_result"
    }
   ],
   "source": [
    "'''\n",
    "Now let's make a random NN. \n",
    "'''\n",
    "n_s = 100  # number of samples\n",
    "n_outputs = 3\n",
    "n_f = 2\n",
    "n_l = [n_f, 5, 6, n_outputs ]  ### This is the number of nodes in each layer. \n",
    "\n",
    "x = np.random.uniform(-1,1,size=[n_s,n_f])\n",
    "w_list = [ np.random.uniform(-1,1,size=[ n_l[i+1] , n_l[i] ] ) for i in range(len(n_l) - 1 )  ]\n",
    "b_list = [ np.random.uniform(-1,1,size=[1, n_l[i+1]  ]) for i in range(len(n_l) - 1 )  ]\n",
    "\n",
    "# [print(w.shape) for w in w_list]\n",
    "# [print(w.shape) for w in b_list]\n",
    "\n",
    "# predicted_y = log_reg_predict(x,w,b)\n",
    "# predicted_y.shape\n",
    "a = NN_forward_function(x, w_list, b_list)\n",
    "a[-1].shape\n"
   ]
  },
  {
   "cell_type": "markdown",
   "metadata": {
    "hidden": true
   },
   "source": [
    "## Role of the Activation function"
   ]
  },
  {
   "cell_type": "markdown",
   "metadata": {
    "colab_type": "text",
    "id": "_vniOtSb8Y4B"
   },
   "source": [
    "# Training a logistic regression"
   ]
  },
  {
   "cell_type": "markdown",
   "metadata": {
    "colab_type": "text",
    "heading_collapsed": true,
    "id": "VD98XP_h8Y3p"
   },
   "source": [
    "## Loss"
   ]
  },
  {
   "cell_type": "code",
   "execution_count": 1,
   "metadata": {
    "ExecuteTime": {
     "end_time": "2020-04-07T06:49:23.275283Z",
     "start_time": "2020-04-07T06:49:23.263801Z"
    },
    "colab": {},
    "colab_type": "code",
    "hidden": true,
    "id": "XVew7Bel8Y3r"
   },
   "outputs": [],
   "source": [
    "'''\n",
    "We need to define our loss function for training. \n",
    "We use the cross-entropy. \n",
    "'''\n",
    "\n",
    "def cross_entropy(y, a):\n",
    "    return -y*np.log(a)- (1-y)*np.log(1-a)\n",
    "\n",
    "\n",
    "def cross_entropy_loss(y_list, x_list, w, bias=0):\n",
    "                  \n",
    "    ''' \n",
    "    First, you need to calculate the a = sig(z).\n",
    "    Then calculate the loss using the equation for cross entropy. \n",
    "    \n",
    "    '''\n",
    "    n_sample = len(y_list)\n",
    "    y_list = y_list.reshape(n_sample,1)\n",
    "    \n",
    "    z_list = ( np.dot(x_list, w.T ) + bias ).reshape( -1  , 1 )\n",
    "    a_list = sigmoid( z_list )\n",
    "    \n",
    "    loss = cross_entropy(y_list, a_list).sum() / n_sample\n",
    "    return loss\n",
    "\n",
    "## ?? try a different loss function. "
   ]
  },
  {
   "cell_type": "code",
   "execution_count": 0,
   "metadata": {
    "colab": {
     "base_uri": "https://localhost:8080/",
     "height": 35
    },
    "colab_type": "code",
    "hidden": true,
    "id": "tnVjWh-V8Y3x",
    "outputId": "e7769fa7-717c-44cf-b221-c16cb6c08516"
   },
   "outputs": [
    {
     "name": "stdout",
     "output_type": "stream",
     "text": [
      "(100, 1, 2)\n"
     ]
    }
   ],
   "source": [
    "w = np.random.uniform(-1,1,size=[1,2])\n",
    "b = np.random.uniform(-1,1,size=[1,1])\n",
    "\n",
    "predicted_y = log_reg_predict(x,w,b)\n",
    "\n",
    "n_s=1000\n",
    "x = np.random.uniform(-1,1,size=[n_s,2])\n",
    "w_list = np.random.uniform(-20,20,size=[100, 1, 2])\n",
    "ce_loss_list = [ cross_entropy_loss( predicted_y, x, w, b)  for w in w_list]\n",
    "\n",
    "\n",
    "print(w_list.shape)\n"
   ]
  },
  {
   "cell_type": "code",
   "execution_count": 0,
   "metadata": {
    "colab": {
     "base_uri": "https://localhost:8080/",
     "height": 35
    },
    "colab_type": "code",
    "hidden": true,
    "id": "onfOYDmYLibw",
    "outputId": "e27bea3d-1338-455c-f2b0-41074afdbd09"
   },
   "outputs": [
    {
     "data": {
      "text/plain": [
       "(100,)"
      ]
     },
     "execution_count": 22,
     "metadata": {
      "tags": []
     },
     "output_type": "execute_result"
    }
   ],
   "source": [
    "w_list[:,:,0].reshape(-1).shape"
   ]
  },
  {
   "cell_type": "code",
   "execution_count": 0,
   "metadata": {
    "colab": {
     "base_uri": "https://localhost:8080/",
     "height": 454
    },
    "colab_type": "code",
    "hidden": true,
    "id": "3CdCKSZMJyTW",
    "outputId": "0955e2e9-2694-4cf0-9cd5-6db9c68aa7b6"
   },
   "outputs": [
    {
     "name": "stdout",
     "output_type": "stream",
     "text": [
      "The true parameters are \n",
      " w=[[ 0.7613062  -0.58300925]] which is in dicated by the red point.\n"
     ]
    },
    {
     "data": {
      "image/png": "[encoded data removed]",
      "text/plain": [
       "<Figure size 576x432 with 2 Axes>"
      ]
     },
     "metadata": {
      "tags": []
     },
     "output_type": "display_data"
    }
   ],
   "source": [
    "# ce_loss_list = [ cross_entropy_loss( predicted_y, x, w, b)  for w in w_list]\n",
    "\n",
    "\n",
    "print('The true parameters are \\n w={} which is in dicated by the red point.'.format(w.reshape(1,-1)))\n",
    "\n",
    "fig = plt.figure(figsize=(8,6))\n",
    "ax1 = fig.add_subplot(111,title = 'Loss function \\n Cross_entropy', xlabel='w1', ylabel='w2')\n",
    "\n",
    "\n",
    "p1 = ax1.tricontourf(w_list[:,:,0].reshape(-1),w_list[:,:,1].reshape(-1), ce_loss_list)\n",
    "ax1.scatter(w[0,0], w[0,1], color='r')\n",
    "plt.colorbar(p1, ax=ax1)\n",
    "\n",
    "\n",
    "\n",
    "plt.show()"
   ]
  },
  {
   "cell_type": "markdown",
   "metadata": {
    "colab_type": "text",
    "heading_collapsed": true,
    "id": "7nYEna4RJkj1"
   },
   "source": [
    "## Using an optimizer"
   ]
  },
  {
   "cell_type": "code",
   "execution_count": 0,
   "metadata": {
    "colab": {
     "base_uri": "https://localhost:8080/",
     "height": 72
    },
    "colab_type": "code",
    "hidden": true,
    "id": "LbMyB64W8Y4E",
    "outputId": "e1a3c5bc-670a-4ad4-91e8-557ed656fff6"
   },
   "outputs": [
    {
     "name": "stdout",
     "output_type": "stream",
     "text": [
      "The true parameters are \n",
      " w = [ 0.7613062  -0.58300925], \n",
      " and b = -0.025999105893764973. \n"
     ]
    }
   ],
   "source": [
    "from scipy.optimize import minimize\n",
    "print('The true parameters are \\n w = {}, \\n and b = {}. '.format(w.reshape(1,-1)[0] , b[0,0]))"
   ]
  },
  {
   "cell_type": "code",
   "execution_count": 2,
   "metadata": {
    "ExecuteTime": {
     "end_time": "2020-04-06T12:56:47.062791Z",
     "start_time": "2020-04-06T12:56:47.054790Z"
    },
    "colab": {
     "base_uri": "https://localhost:8080/",
     "height": 35
    },
    "colab_type": "code",
    "hidden": true,
    "id": "48_zzdKeM0KY",
    "outputId": "b9fc9faf-074f-4648-ac83-5c1afe565515"
   },
   "outputs": [],
   "source": [
    "w = np.random.uniform(-1,1,size=[1,2])\n",
    "b = np.random.uniform(-1,1,size=[1,1])\n"
   ]
  },
  {
   "cell_type": "code",
   "execution_count": 0,
   "metadata": {
    "colab": {
     "base_uri": "https://localhost:8080/",
     "height": 35
    },
    "colab_type": "code",
    "hidden": true,
    "id": "91kzOXot8Y4M",
    "outputId": "94b486e3-a5c0-48fb-dc38-abb4eacd8c6d"
   },
   "outputs": [
    {
     "name": "stdout",
     "output_type": "stream",
     "text": [
      "The optimized values are: w1, w2, b = [ 0.76129796 -0.58296354 -0.0260065 ]\n"
     ]
    }
   ],
   "source": [
    "min_w = minimize( (lambda w: cross_entropy_loss(predicted_y, x, np.array([ [w[0],w[1]] ]),w[2] )),[0,0, 0])\n",
    "print('The optimized values are: w1, w2, b = {}'.format(min_w.x))"
   ]
  },
  {
   "cell_type": "markdown",
   "metadata": {
    "colab_type": "text",
    "id": "ps8F7llJ8Y4T"
   },
   "source": [
    "## Step-by-Step GD for Logistic Regression"
   ]
  },
  {
   "cell_type": "markdown",
   "metadata": {
    "colab_type": "text",
    "id": "p69IwHv4NhFs"
   },
   "source": [
    "Now we want to do this ourselves, not using the optimizer. \n",
    "\n",
    "We will use a simple GD algorithm which basically does the following:\n",
    "\n",
    "w_1  -> w_1 - alpha * dL/dw_1\n",
    "\n",
    "w_2  -> w_2 - alpha * dL/dw_2"
   ]
  },
  {
   "cell_type": "code",
   "execution_count": 4,
   "metadata": {
    "ExecuteTime": {
     "end_time": "2020-04-07T06:50:59.784139Z",
     "start_time": "2020-04-07T06:50:59.775136Z"
    }
   },
   "outputs": [],
   "source": [
    "# def GD_step(w, b, db):\n",
    "\n",
    "'''\n",
    "Here we re-implement our function to abide by the new convention for \n",
    "the shape of x and w and b. \n",
    "\n",
    "x: (n_f, n_s)\n",
    "w: (1, n_f)  \n",
    "b: (1  , n_s) \n",
    "'''\n",
    "def log_reg_predict(x, w, b ):\n",
    "    return sigmoid( np.dot(w , x) + b )\n",
    "\n",
    "\n",
    "def cross_entropy(y, a, noise = 0):\n",
    "    y_in = y.reshape(-1)\n",
    "    a_in = a.reshape(-1)\n",
    "    n_s = len(y_in )\n",
    "    return -np.dot( y_in, np.log(a_in+ noise*(1-y_in)  ).T )/n_s - np.dot((1-y_in),np.log( (1-a_in) + noise*y_in  ).T )/n_s    "
   ]
  },
  {
   "cell_type": "code",
   "execution_count": 5,
   "metadata": {
    "ExecuteTime": {
     "end_time": "2020-04-07T06:51:00.426977Z",
     "start_time": "2020-04-07T06:51:00.416981Z"
    }
   },
   "outputs": [],
   "source": [
    "n_f = 2\n",
    "n_s = 1000   ## We need to have more that one sample if we want the optimization work well. \n",
    "ETA = .1  ## the Learning rate\n",
    "noise = 10e-9\n",
    "\n",
    "###Let's first start with \n",
    "w = np.random.uniform(-1,1,size=[1,2])\n",
    "b = np.random.uniform(-1,1,size=[1,1])\n",
    "\n",
    "## For some random inputs and the corresponding output\n",
    "x = np.random.uniform(-1,1,size=[n_f, n_s])\n",
    "y = (np.dot(w, x) + b)  > 0\n",
    "y = y.astype(int)\n",
    "\n"
   ]
  },
  {
   "cell_type": "code",
   "execution_count": 6,
   "metadata": {
    "ExecuteTime": {
     "end_time": "2020-04-07T06:51:01.086010Z",
     "start_time": "2020-04-07T06:51:01.077980Z"
    }
   },
   "outputs": [],
   "source": [
    "## Now we initialize the optimization\n",
    "w = np.random.uniform(-1,1,size=[1,2])\n",
    "b = np.random.uniform(-1,1,size=[1,1])\n",
    "\n",
    "w_list = [w]\n",
    "b_list = [b]\n",
    "\n",
    "loss_list = []\n",
    "\n",
    "a = log_reg_predict(x,w,b)\n",
    "\n",
    "loss_list += [cross_entropy(y, a, noise)]\n"
   ]
  },
  {
   "cell_type": "code",
   "execution_count": 7,
   "metadata": {
    "ExecuteTime": {
     "end_time": "2020-04-07T06:51:02.532008Z",
     "start_time": "2020-04-07T06:51:02.525009Z"
    }
   },
   "outputs": [
    {
     "name": "stdout",
     "output_type": "stream",
     "text": [
      "w is of the shape: (1, 2).\n",
      "dw is of the shape: (1, 2).\n",
      "\n",
      "b is of the shape: (1, 1).\n",
      "db is of the shape: (1, 1).\n",
      "\n"
     ]
    }
   ],
   "source": [
    "## Calculate the derivatives\n",
    "## See the notes for how these are calculated. \n",
    "dw = np.dot((a-y), x.T)\n",
    "db = (( a-y ).sum()/n_s).reshape(-1,1)\n",
    "\n",
    "## Let's check if the shapes are a match.\n",
    "print(f\"w is of the shape: {w.shape}.\")\n",
    "print(f\"dw is of the shape: {dw.shape}.\\n\")\n",
    "\n",
    "print(f\"b is of the shape: {b.shape}.\")\n",
    "print(f\"db is of the shape: {db.shape}.\\n\")\n",
    "\n"
   ]
  },
  {
   "cell_type": "code",
   "execution_count": 8,
   "metadata": {
    "ExecuteTime": {
     "end_time": "2020-04-07T06:51:03.549009Z",
     "start_time": "2020-04-07T06:51:03.541982Z"
    }
   },
   "outputs": [],
   "source": [
    "### Now we update the weigts and bias. \n",
    "w -= ETA * dw\n",
    "b -= ETA * db\n",
    "\n",
    "a = log_reg_predict(x,w,b)\n",
    "\n",
    "w_list += [w]\n",
    "b_list += [b]\n",
    "\n",
    "loss_list += [cross_entropy(y, a, noise)]\n"
   ]
  },
  {
   "cell_type": "code",
   "execution_count": 9,
   "metadata": {
    "ExecuteTime": {
     "end_time": "2020-04-07T06:51:05.028598Z",
     "start_time": "2020-04-07T06:51:04.779571Z"
    }
   },
   "outputs": [
    {
     "data": {
      "text/plain": [
       "[<matplotlib.lines.Line2D at 0x264955b2f98>]"
      ]
     },
     "execution_count": 9,
     "metadata": {},
     "output_type": "execute_result"
    },
    {
     "data": {
      "image/png": "[encoded data removed]",
      "text/plain": [
       "<Figure size 432x288 with 1 Axes>"
      ]
     },
     "metadata": {
      "needs_background": "light"
     },
     "output_type": "display_data"
    }
   ],
   "source": [
    "##Let's repeat this a few times. \n",
    "n_itr = 10  #number of iterations to repeat this. \n",
    "\n",
    "for i in range(n_itr):\n",
    "    dw = np.dot((a-y), x.T)\n",
    "    db = (( a-y ).sum()/n_s).reshape(-1,1)\n",
    "\n",
    "    w -= ETA * dw\n",
    "    b -= ETA * db\n",
    "\n",
    "    a = log_reg_predict(x,w,b)\n",
    "\n",
    "    w_list += [w]\n",
    "    b_list += [b]\n",
    "\n",
    "    loss_list += [cross_entropy(y, a, noise)]\n",
    "\n",
    "\n",
    "plt.plot(loss_list)    "
   ]
  },
  {
   "cell_type": "code",
   "execution_count": 10,
   "metadata": {
    "ExecuteTime": {
     "end_time": "2020-04-07T06:51:09.244193Z",
     "start_time": "2020-04-07T06:51:09.070166Z"
    }
   },
   "outputs": [
    {
     "data": {
      "text/plain": [
       "[<matplotlib.lines.Line2D at 0x26495646f60>]"
      ]
     },
     "execution_count": 10,
     "metadata": {},
     "output_type": "execute_result"
    },
    {
     "data": {
      "image/png": "[encoded data removed]",
      "text/plain": [
       "<Figure size 432x288 with 1 Axes>"
      ]
     },
     "metadata": {
      "needs_background": "light"
     },
     "output_type": "display_data"
    }
   ],
   "source": [
    "##Let's repeat this a few times. \n",
    "n_itr = 10  #number of iterations to repeat this. \n",
    "ETA = .05\n",
    "for i in range(n_itr):\n",
    "    dw = np.dot((a-y), x.T)\n",
    "    db = (( a-y ).sum()/n_s).reshape(-1,1)\n",
    "\n",
    "    w -= ETA * dw\n",
    "    b -= ETA * db\n",
    "\n",
    "    a = log_reg_predict(x,w,b)\n",
    "\n",
    "    w_list += [w]\n",
    "    b_list += [b]\n",
    "\n",
    "    loss_list += [cross_entropy(y, a, noise)]\n",
    "\n",
    "\n",
    "plt.plot(loss_list)    "
   ]
  },
  {
   "cell_type": "markdown",
   "metadata": {},
   "source": [
    "# Full LR"
   ]
  },
  {
   "cell_type": "code",
   "execution_count": 11,
   "metadata": {
    "ExecuteTime": {
     "end_time": "2020-04-07T06:51:12.714194Z",
     "start_time": "2020-04-07T06:51:12.699194Z"
    }
   },
   "outputs": [],
   "source": [
    "'''\n",
    "Now let's put it all into a function. \n",
    "Remember that the assumption is that \n",
    "x: (n_f, n_s)\n",
    "w: (1, n_f)  \n",
    "b: (1  , n_s) \n",
    "\n",
    "return_hist is to check if we want the history of changes in w and b. \n",
    "'''\n",
    "\n",
    "def LR(w,b=0):\n",
    "    def LR_f(x):\n",
    "        return sigmoid(np.dot(w, x) + b)  \n",
    "    return LR_f\n",
    "\n",
    "def train_LR(X, Y, n_itr = 10, ETA = .1, return_hist = False, return_loss = False):\n",
    "    n_f , n_s = X.shape\n",
    "    \n",
    "    w = np.random.uniform(-2,0,size=[1,n_f])\n",
    "    \n",
    "    b = np.random.uniform(1,3,size=[1,1])\n",
    "    w_list = [w.copy()[0]]\n",
    "    b_list = [b[0]]\n",
    "\n",
    "    a = log_reg_predict(X,w,b)  \n",
    "\n",
    "    loss_list = [cross_entropy(y, a, noise)]\n",
    "    \n",
    "    for i in range(n_itr):\n",
    "#         print(w_list)\n",
    "        dw = np.dot((a-y), x.T)\n",
    "        db = (( a-y ).sum()/n_s).reshape(-1,1)\n",
    "\n",
    "        w -= ETA * dw\n",
    "        b -= ETA * db\n",
    "\n",
    "        w_list += [w.copy()[0]]\n",
    "        b_list += [b[0]]\n",
    "\n",
    "        a = log_reg_predict(x,w,b)\n",
    "\n",
    "        loss_list += [cross_entropy(y, a, noise)]\n",
    "\n",
    "    output = [w[0], b[0]] + return_hist*[np.array(w_list), np.array(b_list)] + return_loss*[loss_list]\n",
    "    return output"
   ]
  },
  {
   "cell_type": "code",
   "execution_count": 12,
   "metadata": {
    "ExecuteTime": {
     "end_time": "2020-04-07T06:51:18.141383Z",
     "start_time": "2020-04-07T06:51:17.678357Z"
    }
   },
   "outputs": [
    {
     "data": {
      "image/png": "[encoded data removed]",
      "text/plain": [
       "<Figure size 1080x360 with 3 Axes>"
      ]
     },
     "metadata": {
      "needs_background": "light"
     },
     "output_type": "display_data"
    }
   ],
   "source": [
    "n_f = 2\n",
    "n_s = 1000   ## We need to have more that one sample if we want the optimization work well. \n",
    "ETA = .1  ## the Learning rate\n",
    "noise = 10e-8\n",
    "\n",
    "###Let's test this on the example we did for the AND gate. \n",
    "w = np.array([-1, -1]).reshape(1,2)\n",
    "b = np.array(1.7).reshape(1,1)\n",
    "\n",
    "## Now we make the classifier function. \n",
    "LR_clf = LR(w,b)\n",
    "\n",
    "## For some random inputs and the corresponding output\n",
    "x = np.random.uniform(-1,2,size=[n_f, n_s])\n",
    "y = LR_clf(x) > 0.5\n",
    "y = y.astype(int).reshape(-1)\n",
    "\n",
    "\n",
    "##Let's plot the result of this classifier. \n",
    "x1_list, x2_list = grid(x[0], x[1], n_points=70)\n",
    "X_grid = np.vstack([x1_list.reshape(-1),x2_list.reshape(-1)])\n",
    "Y_grid = LR_clf( X_grid ).reshape(x1_list.shape )>0.5\n",
    "\n",
    "## Let's also take a look at the loss\n",
    "w_list_1 = np.arange(-2,0,.1)\n",
    "test_w_2, b = -1, 1.7\n",
    "test_a = [LR([w1, test_w_2],b)(x) for w1 in w_list_1]\n",
    "test_loss = [cross_entropy(y, a, noise) for a in test_a]\n",
    "\n",
    "fig = plt.figure(figsize=(15,5))\n",
    "plt.subplot(121, xlabel = \"X1\", ylabel = \"X2\", title = \"LR Classification\")\n",
    "plt.contourf(x1_list, x2_list, Y_grid, alpha=.4, cmap=plt.cm.autumn_r)\n",
    "plt.scatter(*x, c=y.reshape(-1))\n",
    "plt.colorbar()\n",
    "plt.subplot(122, xlabel = \"w1\", ylabel = \"Cross Entropy\", title = \"Loss vs w1\" )\n",
    "plt.plot(w_list_1 , test_loss)\n",
    "plt.show()\n"
   ]
  },
  {
   "cell_type": "code",
   "execution_count": 13,
   "metadata": {
    "ExecuteTime": {
     "end_time": "2020-04-07T06:51:22.911188Z",
     "start_time": "2020-04-07T06:51:22.887136Z"
    }
   },
   "outputs": [],
   "source": [
    "w_, b_, w_h, b_h, losses  = train_LR(x,y,n_itr=100, ETA=.01, return_hist=True, return_loss=True)"
   ]
  },
  {
   "cell_type": "code",
   "execution_count": 14,
   "metadata": {
    "ExecuteTime": {
     "end_time": "2020-04-07T06:51:24.579596Z",
     "start_time": "2020-04-07T06:51:24.378744Z"
    }
   },
   "outputs": [
    {
     "data": {
      "text/plain": [
       "(50, 50)"
      ]
     },
     "execution_count": 14,
     "metadata": {},
     "output_type": "execute_result"
    }
   ],
   "source": [
    "\n",
    "w1_test_list = np.linspace(-3,1)\n",
    "w2_test_list = np.linspace(-3,1)\n",
    "n_pnts = len(w1_test_list)\n",
    "w_test_grid  = np.array([[w1,w2] for w1 in w1_test_list for w2 in w1_test_list])\n",
    "b_test = 1.7 \n",
    "test_a = np.array([LR([w1, w2],b)(x) for w1 , w2 in w_test_grid  ])\n",
    "test_loss = np.array([cross_entropy(y, a, noise) for a in test_a]).reshape(n_pnts, n_pnts)\n",
    "test_loss.shape"
   ]
  },
  {
   "cell_type": "code",
   "execution_count": 15,
   "metadata": {
    "ExecuteTime": {
     "end_time": "2020-04-07T06:51:26.726609Z",
     "start_time": "2020-04-07T06:51:26.473531Z"
    }
   },
   "outputs": [
    {
     "data": {
      "image/png": "[encoded data removed]",
      "text/plain": [
       "<Figure size 576x360 with 2 Axes>"
      ]
     },
     "metadata": {
      "needs_background": "light"
     },
     "output_type": "display_data"
    }
   ],
   "source": [
    "fig = plt.figure(figsize=(8,5))\n",
    "\n",
    "\n",
    "ax = fig.add_subplot(111, xlabel = \"X1\", ylabel = \"X2\", title = \"LR Loss landscape and optimization\")\n",
    "\n",
    "cf = ax.contourf(w_test_grid[:,0].reshape(50,50), \n",
    "             w_test_grid[:,1].reshape(50,50), \n",
    "             test_loss, \n",
    "                 levels = 20,\n",
    "                 alpha=.4, cmap=plt.cm.Blues_r)\n",
    "ax.scatter(*w_h.T, c=losses, s= losses)\n",
    "plt.colorbar(cf)\n",
    "\n",
    "# plt.subplot(121, xlabel = \"X1\", ylabel = \"X2\", title = \"X1\")\n",
    "# plt.scatter(*x)\n",
    "# plt.plot(*w_h.T, marker='.', markersize = losses )\n",
    "\n",
    "# plt.subplot(122, xlabel = \"w1\", ylabel = \"Cross Entropy\", title = \"Loss vs w1\" )\n",
    "# plt.plot(w_list_1 , test_loss)\n",
    "plt.show()"
   ]
  },
  {
   "cell_type": "code",
   "execution_count": 39,
   "metadata": {
    "ExecuteTime": {
     "end_time": "2020-04-07T07:01:32.239695Z",
     "start_time": "2020-04-07T07:01:32.229667Z"
    }
   },
   "outputs": [
    {
     "ename": "SyntaxError",
     "evalue": "invalid syntax (<ipython-input-39-3ced1cf0e90a>, line 7)",
     "output_type": "error",
     "traceback": [
      "\u001b[1;36m  File \u001b[1;32m\"<ipython-input-39-3ced1cf0e90a>\"\u001b[1;36m, line \u001b[1;32m7\u001b[0m\n\u001b[1;33m    plt.show()\u001b[0m\n\u001b[1;37m      ^\u001b[0m\n\u001b[1;31mSyntaxError\u001b[0m\u001b[1;31m:\u001b[0m invalid syntax\n"
     ]
    }
   ],
   "source": [
    "from mpl_toolkits import mplot3d\n",
    "\n",
    "fig = plt.figure()\n",
    "ax = plt.axes(projection=\"3d\")\n",
    "ax.plot3D(w_h[:,0], w_h[:,1], b_h.reshape(-1), 'gray')\n",
    "ax.scatter3D((w_h[:,0], w_h[:,1], b_h.reshape(-1))\n",
    "plt.show()"
   ]
  },
  {
   "cell_type": "code",
   "execution_count": null,
   "metadata": {},
   "outputs": [],
   "source": [
    "'''\n",
    "--> Add 3D plot: w1, w2, b  => size and color for the loss\n",
    "\n",
    "--> Graph of the LR \n",
    "\n",
    "--> Animation for the optimization process\n",
    "\n",
    "--> Turn thin into a class\n",
    "\n",
    "--> Activation function: remove to see how it helps and works\n",
    "\n",
    "--> Universality of the NN\n",
    "'''"
   ]
  }
 ],
 "metadata": {
  "colab": {
   "collapsed_sections": [
    "6cC5C4jjKNjd",
    "vUruVCz_8Y40"
   ],
   "include_colab_link": true,
   "name": "Logistic_Regression.ipynb",
   "provenance": []
  },
  "kernelspec": {
   "display_name": "Python 3",
   "language": "python",
   "name": "python3"
  },
  "language_info": {
   "codemirror_mode": {
    "name": "ipython",
    "version": 3
   },
   "file_extension": ".py",
   "mimetype": "text/x-python",
   "name": "python",
   "nbconvert_exporter": "python",
   "pygments_lexer": "ipython3",
   "version": "3.6.6"
  },
  "latex_envs": {
   "LaTeX_envs_menu_present": true,
   "autoclose": false,
   "autocomplete": true,
   "bibliofile": "biblio.bib",
   "cite_by": "apalike",
   "current_citInitial": 1,
   "eqLabelWithNumbers": true,
   "eqNumInitial": 1,
   "hotkeys": {
    "equation": "Ctrl-E",
    "itemize": "Ctrl-I"
   },
   "labels_anchors": false,
   "latex_user_defs": false,
   "report_style_numbering": false,
   "user_envs_cfg": false
  },
  "toc": {
   "base_numbering": 1,
   "nav_menu": {},
   "number_sections": true,
   "sideBar": true,
   "skip_h1_title": false,
   "title_cell": "Table of Contents",
   "title_sidebar": "Contents",
   "toc_cell": false,
   "toc_position": {},
   "toc_section_display": true,
   "toc_window_display": true
  },
  "varInspector": {
   "cols": {
    "lenName": 16,
    "lenType": 16,
    "lenVar": 40
   },
   "kernels_config": {
    "python": {
     "delete_cmd_postfix": "",
     "delete_cmd_prefix": "del ",
     "library": "var_list.py",
     "varRefreshCmd": "print(var_dic_list())"
    },
    "r": {
     "delete_cmd_postfix": ") ",
     "delete_cmd_prefix": "rm(",
     "library": "var_list.r",
     "varRefreshCmd": "cat(var_dic_list()) "
    }
   },
   "types_to_exclude": [
    "module",
    "function",
    "builtin_function_or_method",
    "instance",
    "_Feature"
   ],
   "window_display": false
  }
 },
 "nbformat": 4,
 "nbformat_minor": 1
}
