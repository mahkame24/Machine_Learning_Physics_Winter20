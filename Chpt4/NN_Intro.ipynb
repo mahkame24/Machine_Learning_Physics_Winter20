{
  "nbformat": 4,
  "nbformat_minor": 0,
  "metadata": {
    "colab": {
      "name": "Logistic_Regression.ipynb",
      "provenance": [],
      "collapsed_sections": [
        "6cC5C4jjKNjd",
        "vUruVCz_8Y40"
      ],
      "include_colab_link": true
    },
    "kernelspec": {
      "display_name": "Python 3",
      "language": "python",
      "name": "python3"
    }
  },
  "cells": [
    {
      "cell_type": "markdown",
      "metadata": {
        "id": "view-in-github",
        "colab_type": "text"
      },
      "source": [
        "<a href=\"https://colab.research.google.com/github/sraeisi/Machine_Learning_Physics_Winter20/blob/master/Chpt4/NN_Intro.ipynb\" target=\"_parent\"><img src=\"https://colab.research.google.com/assets/colab-badge.svg\" alt=\"Open In Colab\"/></a>"
      ]
    },
    {
      "cell_type": "code",
      "metadata": {
        "id": "pyRSpnrE8Y3E",
        "colab_type": "code",
        "colab": {}
      },
      "source": [
        "import numpy as np\n",
        "import pandas as pd\n",
        "import matplotlib.pyplot as plt"
      ],
      "execution_count": 0,
      "outputs": []
    },
    {
      "cell_type": "code",
      "metadata": {
        "id": "TIBU-WoF8Y3Q",
        "colab_type": "code",
        "colab": {}
      },
      "source": [
        "def sigmoid(x):\n",
        "    return 1 / (1 + np.exp(-x))"
      ],
      "execution_count": 0,
      "outputs": []
    },
    {
      "cell_type": "markdown",
      "metadata": {
        "id": "6cC5C4jjKNjd",
        "colab_type": "text"
      },
      "source": [
        "# Logistic Regression: The simplest Neural Network (NN)"
      ]
    },
    {
      "cell_type": "markdown",
      "metadata": {
        "id": "praJkn8I8Y3X",
        "colab_type": "text"
      },
      "source": [
        "We start with a simple Logistic regression. \n",
        "\n",
        "We can use computation graphs for representation which would look like:\n",
        "\n",
        "![Simple Logistic Regression](https://www.dropbox.com/s/5ql7mpu9uwim8xk/computationGraph_LR.png?dl=1 )\n",
        "\n",
        "For our purposses, it is more convenient to seperate the parameters\n",
        "\n",
        "![alt text](https://www.dropbox.com/s/pxrmeyz3uwwb95i/computationGraph_LR_2.png?dl=1)\n",
        "\n",
        "We can simplify this a bit to get\n",
        "\n",
        "![alt text](https://www.dropbox.com/s/8hspbepvubgu1ia/computationGraph_LR_simplified.png?dl=1)\n",
        "\n",
        "\n",
        "\n"
      ]
    },
    {
      "cell_type": "code",
      "metadata": {
        "id": "l83ITgxU8Y3Z",
        "colab_type": "code",
        "colab": {}
      },
      "source": [
        "'''\n",
        "Ideally, we should train the estimator and find the\n",
        "w and b that minimizes the loss. However, the following\n",
        "function makes no assumption about the w and b. \n",
        "The inputs are numpy arrays and their shapes are\n",
        "x: (1, n_f)\n",
        "w: (1, n_f)  \n",
        "b: (1  , 1) \n",
        "'''\n",
        "def log_reg_predict(x, w, b ):\n",
        "    return sigmoid( np.dot(x, w.T) + b )"
      ],
      "execution_count": 0,
      "outputs": []
    },
    {
      "cell_type": "code",
      "metadata": {
        "id": "HIdaSmaT8Y3f",
        "colab_type": "code",
        "outputId": "32a4e0c4-972d-4459-f7df-9356de2f7219",
        "colab": {
          "base_uri": "https://localhost:8080/",
          "height": 34
        }
      },
      "source": [
        "x = np.random.uniform(-1,1,size=[1,2])\n",
        "w = np.random.uniform(-1,1,size=[1,2])\n",
        "b = np.random.uniform(-1,1,size=[1,1])\n",
        "predicted_y = log_reg_predict(x,w,b)\n",
        "predicted_y"
      ],
      "execution_count": 4,
      "outputs": [
        {
          "output_type": "execute_result",
          "data": {
            "text/plain": [
              "array([[0.52827282]])"
            ]
          },
          "metadata": {
            "tags": []
          },
          "execution_count": 4
        }
      ]
    },
    {
      "cell_type": "code",
      "metadata": {
        "id": "G7oWbXBD-hSC",
        "colab_type": "code",
        "outputId": "e8850b64-0896-4eef-db97-cc46ad0f48fe",
        "colab": {
          "base_uri": "https://localhost:8080/",
          "height": 34
        }
      },
      "source": [
        "### This would work with a list of samples.\n",
        "n_s = 100  # number of samples\n",
        "\n",
        "x = np.random.uniform(-1,1,size=[n_s,2])\n",
        "w = np.random.uniform(-1,1,size=[1,2])\n",
        "b = np.random.uniform(-1,1,size=[1,1])\n",
        "predicted_y = log_reg_predict(x,w,b)\n",
        "predicted_y.shape\n"
      ],
      "execution_count": 5,
      "outputs": [
        {
          "output_type": "execute_result",
          "data": {
            "text/plain": [
              "(100, 1)"
            ]
          },
          "metadata": {
            "tags": []
          },
          "execution_count": 5
        }
      ]
    },
    {
      "cell_type": "code",
      "metadata": {
        "id": "0-InY7ZH3n3D",
        "colab_type": "code",
        "outputId": "7ce9aa9c-1ab6-4f6e-d126-6bb40a76be8a",
        "colab": {
          "base_uri": "https://localhost:8080/",
          "height": 34
        }
      },
      "source": [
        "## Generate the grid\n",
        "n_points = 40  ## Number of points along each axis of the grid. \n",
        "xrange=np.linspace(-10,10,n_points)  ## We let the two features change from between -10 and 10 and we pick 40 points to sample.\n",
        "X0,X1=np.meshgrid(xrange,xrange)\n",
        "input_x = np.array([X0, X1]).T\n",
        "\n",
        "z = np.array([log_reg_predict(x,w,b) for x in input_x]).reshape(n_points, n_points)\n",
        "z[0,0]"
      ],
      "execution_count": 7,
      "outputs": [
        {
          "output_type": "execute_result",
          "data": {
            "text/plain": [
              "3.426586902722116e-07"
            ]
          },
          "metadata": {
            "tags": []
          },
          "execution_count": 7
        }
      ]
    },
    {
      "cell_type": "code",
      "metadata": {
        "id": "TgK-GEB42ymm",
        "colab_type": "code",
        "outputId": "e08b3e10-1ca0-47fc-c1e5-ee56fe6dd69e",
        "colab": {
          "base_uri": "https://localhost:8080/",
          "height": 310
        }
      },
      "source": [
        "# Plot the result. \n",
        "\n",
        "## Take some random LR\n",
        "w = np.random.uniform(-1,1,size=[1,2])\n",
        "b = np.random.uniform(-1,1,size=[1,1])\n",
        "\n",
        "\n",
        "## Generate the grid\n",
        "n_points = 40  ## Number of points along each axis of the grid. \n",
        "xrange=np.linspace(-10,10,n_points)  ## We let the two features change from between -10 and 10 and we pick 40 points to sample.\n",
        "X0,X1=np.meshgrid(xrange,xrange)\n",
        "input_x = np.array([X0, X1]).T\n",
        "\n",
        "z = np.array([log_reg_predict(x,w,b) for x in input_x]).reshape(n_points, n_points)\n",
        "\n",
        "fig = plt.figure(figsize=(12,4))\n",
        "ax = fig.add_subplot(121, xlabel='X1', ylabel='X2', title='Some random NN')\n",
        "plt.imshow(z,interpolation='nearest',origin='lower', extent=(-10,10,-10,10) , cmap=plt.cm.viridis )\n",
        "plt.colorbar()\n",
        "plt.contour(X0, X1, z, cmap = plt.cm.Accent, linewidths=5)\n",
        "ax.axhline(y=.25, color='r', linestyle='--', linewidth=5)\n",
        "\n",
        "ax = fig.add_subplot(122, xlabel='X1', ylabel='z', title='Some random NN \\n X2 = 0.25')\n",
        "ax.plot(X0[20], z[10], linewidth=5)\n",
        "\n",
        "plt.show()\n",
        "plt.close()"
      ],
      "execution_count": 8,
      "outputs": [
        {
          "output_type": "display_data",
          "data": {
            "image/png": "[encoded data removed]",
            "text/plain": [
              "<Figure size 864x288 with 3 Axes>"
            ]
          },
          "metadata": {
            "tags": []
          }
        }
      ]
    },
    {
      "cell_type": "markdown",
      "metadata": {
        "id": "fa4rUSs1boYi",
        "colab_type": "text"
      },
      "source": [
        "## Multi Class \n",
        "Consider the same problem, but with three classes instead of two. Now the computation graph would be like\n",
        "![alt text](https://www.dropbox.com/s/jryr9f7udnxuetq/computationGraph_LR_simplified_multi_class.png?dl=1)\n",
        "which means that there are three output nodes, one for the probability of each class. How would this work?\n",
        "\n",
        "As we discussed in the first part of the course, we need to train three distinct estimators, one for each class. \n",
        "\n",
        "{ w<sub>1</sub>, b<sub>1</sub> } => Class 1\n",
        "\n",
        "{ w<sub>2</sub>, b<sub>2</sub> } => Class 2\n",
        "\n",
        "{ w<sub>3</sub>, b<sub>3</sub> } => Class 3\n",
        "\n",
        "Just like before, each w<sub>i</sub> is a vector and each b<sub>i</sub> is a number. \n",
        "\n",
        "We can stack them together and make the matrix W with shape of (3,  n<sub>f</sub>) and \n",
        " the matrix B with shape of (3, 1). The rest would be the same. In fact our implementation of the logistic regression would not require any modification.  "
      ]
    },
    {
      "cell_type": "code",
      "metadata": {
        "id": "wZl5ckz9sOn4",
        "colab_type": "code",
        "outputId": "5846c2f2-4375-4e6a-cc05-1dfdc2002885",
        "colab": {
          "base_uri": "https://localhost:8080/",
          "height": 34
        }
      },
      "source": [
        "n_s = 100  # number of samples\n",
        "n_outputs = 3\n",
        "n_f= 2\n",
        "\n",
        "x = np.random.uniform(-1,1,size=[n_s,n_f])\n",
        "w = np.random.uniform(-1,1,size=[n_outputs,n_f])\n",
        "b = np.random.uniform(-1,1,size=[1, n_outputs])\n",
        "predicted_y = log_reg_predict(x,w,b)\n",
        "predicted_y.shape\n"
      ],
      "execution_count": 0,
      "outputs": [
        {
          "output_type": "execute_result",
          "data": {
            "text/plain": [
              "(100, 3)"
            ]
          },
          "metadata": {
            "tags": []
          },
          "execution_count": 6
        }
      ]
    },
    {
      "cell_type": "markdown",
      "metadata": {
        "id": "CF9OFx9dszRz",
        "colab_type": "text"
      },
      "source": [
        "## Multi Layer\n",
        "\n",
        "Now consider the situation where two logistic regressions are compined to make a new estimator. \n",
        "\n",
        "That is, LR1 is applied to that innput features  and determine the probabilities of different classes. Then LR2 takes these probabilities as an input and based on that determine the probabilities of  a second classification problem. \n",
        "The computation graph would look like\n",
        "\n",
        "![alt text](https://www.dropbox.com/s/9o01doidvs6hmj9/computationGraph_LR_simplified_multi_layer.png?dl=1)  \n",
        "  \n",
        "For charachterization of this estimator, we need two sets of W and B matrices, one for the LR1 and one for LR2. We use the following notation for that:\n",
        "\n",
        "W<sup>[1]</sup> => Weights for LR1\n",
        "\n",
        "B<sup>[1]</sup> => Biases for LR1\n",
        "\n",
        "W<sup>[2]</sup> => Weights for LR1\n",
        "\n",
        "W<sup>[2]</sup> => Biases for LR1\n",
        "\n",
        "As discussed before, W<sup>[1]</sup> is \n",
        "\n",
        "{ w<sup>[1]</sup><sub>1</sub>, b<sub>1</sub> } => Class 1\n",
        "\n",
        "{ w<sup>[1]</sup><sub>2</sub>, b<sub>2</sub> } => Class 2\n",
        "\n",
        "{ w<sup>[1]</sup><sub>3</sub>, b<sub>3</sub> } => Class 3\n",
        "\n",
        "So, each w<sup>[j]</sup><sub>i</sub> is a vector and each b<sup>[j]</sup><sub>i</sub> is a number and they correspond to classification of class i for LR_j. \n",
        "\n",
        "Use what we haev done so far to implement this! \n",
        "\n",
        "(Optional) Design your function such that it work for n_s samples. "
      ]
    },
    {
      "cell_type": "code",
      "metadata": {
        "id": "S5cmPy9XpZMl",
        "colab_type": "code",
        "colab": {}
      },
      "source": [
        "'''\n",
        "This function can also be simply implemented using the function we have for a single unit of LR. \n",
        "'''\n",
        "\n",
        "def NN_forward(X, w_list, b_list):\n",
        "  a = []\n",
        "  a += [X]\n",
        "  for i in range(len(w_list)):\n",
        "    a += [log_reg_predict(a[-1], w_list[i], b_list[i])]\n",
        "  \n",
        "  return a\n",
        "\n",
        "\n",
        "    "
      ],
      "execution_count": 0,
      "outputs": []
    },
    {
      "cell_type": "code",
      "metadata": {
        "id": "AUuh38bzGtyj",
        "colab_type": "code",
        "outputId": "d0990790-8d4c-4e80-e9ff-9581c943193b",
        "colab": {
          "base_uri": "https://localhost:8080/",
          "height": 35
        }
      },
      "source": [
        "'''\n",
        "Now let's make a random NN. \n",
        "'''\n",
        "n_s = 100  # number of samples\n",
        "n_outputs = 3\n",
        "n_f = 2\n",
        "n_l = [n_f, 5, 6, n_outputs ]  ### This is the number of nodes in each layer. \n",
        "\n",
        "x = np.random.uniform(-1,1,size=[n_s,n_f])\n",
        "w_list = [ np.random.uniform(-1,1,size=[ n_l[i+1] , n_l[i] ] ) for i in range(len(n_l) - 1 )  ]\n",
        "b_list = [ np.random.uniform(-1,1,size=[1, n_l[i+1]  ]) for i in range(len(n_l) - 1 )  ]\n",
        "\n",
        "# [print(w.shape) for w in w_list]\n",
        "# [print(w.shape) for w in b_list]\n",
        "\n",
        "# predicted_y = log_reg_predict(x,w,b)\n",
        "# predicted_y.shape\n",
        "a = NN_forward(x, w_list, b_list)\n",
        "a[-1].shape\n"
      ],
      "execution_count": 0,
      "outputs": [
        {
          "output_type": "execute_result",
          "data": {
            "text/plain": [
              "(100, 3)"
            ]
          },
          "metadata": {
            "tags": []
          },
          "execution_count": 18
        }
      ]
    },
    {
      "cell_type": "markdown",
      "metadata": {
        "id": "_vniOtSb8Y4B",
        "colab_type": "text"
      },
      "source": [
        "# Training a logistic regression"
      ]
    },
    {
      "cell_type": "markdown",
      "metadata": {
        "id": "VD98XP_h8Y3p",
        "colab_type": "text"
      },
      "source": [
        "## Loss"
      ]
    },
    {
      "cell_type": "code",
      "metadata": {
        "id": "XVew7Bel8Y3r",
        "colab_type": "code",
        "colab": {}
      },
      "source": [
        "'''\n",
        "We need to define our loss function for training. \n",
        "We use the cross-entropy. \n",
        "'''\n",
        "\n",
        "def cross_entropy(y, a):\n",
        "    return -y*np.log(a)- (1-y)*np.log(1-a)\n",
        "\n",
        "\n",
        "def cross_entropy_loss(y_list, x_list, w, bias=0):\n",
        "                  \n",
        "    ''' \n",
        "    First, you need to calculate the a = sig(z).\n",
        "    Then calculate the loss using the equation for cross entropy. \n",
        "    \n",
        "    '''\n",
        "    n_sample = len(y_list)\n",
        "    y_list = y_list.reshape(n_sample,1)\n",
        "    \n",
        "    z_list = ( np.dot(x_list, w.T ) + bias ).reshape( -1  , 1 )\n",
        "    a_list = sigmoid( z_list )\n",
        "    \n",
        "    loss = cross_entropy(y_list, a_list).sum() / n_sample\n",
        "    return loss\n",
        "\n"
      ],
      "execution_count": 0,
      "outputs": []
    },
    {
      "cell_type": "code",
      "metadata": {
        "id": "tnVjWh-V8Y3x",
        "colab_type": "code",
        "outputId": "e7769fa7-717c-44cf-b221-c16cb6c08516",
        "colab": {
          "base_uri": "https://localhost:8080/",
          "height": 35
        }
      },
      "source": [
        "w = np.random.uniform(-1,1,size=[1,2])\n",
        "b = np.random.uniform(-1,1,size=[1,1])\n",
        "\n",
        "predicted_y = log_reg_predict(x,w,b)\n",
        "\n",
        "n_s=1000\n",
        "x = np.random.uniform(-1,1,size=[n_s,2])\n",
        "w_list = np.random.uniform(-20,20,size=[100, 1, 2])\n",
        "ce_loss_list = [ cross_entropy_loss( predicted_y, x, w, b)  for w in w_list]\n",
        "\n",
        "\n",
        "print(w_list.shape)\n"
      ],
      "execution_count": 0,
      "outputs": [
        {
          "output_type": "stream",
          "text": [
            "(100, 1, 2)\n"
          ],
          "name": "stdout"
        }
      ]
    },
    {
      "cell_type": "code",
      "metadata": {
        "id": "onfOYDmYLibw",
        "colab_type": "code",
        "outputId": "e27bea3d-1338-455c-f2b0-41074afdbd09",
        "colab": {
          "base_uri": "https://localhost:8080/",
          "height": 35
        }
      },
      "source": [
        "w_list[:,:,0].reshape(-1).shape"
      ],
      "execution_count": 0,
      "outputs": [
        {
          "output_type": "execute_result",
          "data": {
            "text/plain": [
              "(100,)"
            ]
          },
          "metadata": {
            "tags": []
          },
          "execution_count": 22
        }
      ]
    },
    {
      "cell_type": "code",
      "metadata": {
        "id": "3CdCKSZMJyTW",
        "colab_type": "code",
        "outputId": "0955e2e9-2694-4cf0-9cd5-6db9c68aa7b6",
        "colab": {
          "base_uri": "https://localhost:8080/",
          "height": 454
        }
      },
      "source": [
        "# ce_loss_list = [ cross_entropy_loss( predicted_y, x, w, b)  for w in w_list]\n",
        "\n",
        "\n",
        "print('The true parameters are \\n w={} which is in dicated by the red point.'.format(w.reshape(1,-1)))\n",
        "\n",
        "fig = plt.figure(figsize=(8,6))\n",
        "ax1 = fig.add_subplot(111,title = 'Loss function \\n Cross_entropy', xlabel='w1', ylabel='w2')\n",
        "\n",
        "\n",
        "p1 = ax1.tricontourf(w_list[:,:,0].reshape(-1),w_list[:,:,1].reshape(-1), ce_loss_list)\n",
        "ax1.scatter(w[0,0], w[0,1], color='r')\n",
        "plt.colorbar(p1, ax=ax1)\n",
        "\n",
        "\n",
        "\n",
        "plt.show()"
      ],
      "execution_count": 0,
      "outputs": [
        {
          "output_type": "stream",
          "text": [
            "The true parameters are \n",
            " w=[[ 0.7613062  -0.58300925]] which is in dicated by the red point.\n"
          ],
          "name": "stdout"
        },
        {
          "output_type": "display_data",
          "data": {
            "image/png": "[encoded data removed]",
            "text/plain": [
              "<Figure size 576x432 with 2 Axes>"
            ]
          },
          "metadata": {
            "tags": []
          }
        }
      ]
    },
    {
      "cell_type": "markdown",
      "metadata": {
        "id": "7nYEna4RJkj1",
        "colab_type": "text"
      },
      "source": [
        "## Using an optimizer"
      ]
    },
    {
      "cell_type": "code",
      "metadata": {
        "id": "LbMyB64W8Y4E",
        "colab_type": "code",
        "outputId": "e1a3c5bc-670a-4ad4-91e8-557ed656fff6",
        "colab": {
          "base_uri": "https://localhost:8080/",
          "height": 72
        }
      },
      "source": [
        "from scipy.optimize import minimize\n",
        "print('The true parameters are \\n w = {}, \\n and b = {}. '.format(w.reshape(1,-1)[0] , b[0,0]))"
      ],
      "execution_count": 0,
      "outputs": [
        {
          "output_type": "stream",
          "text": [
            "The true parameters are \n",
            " w = [ 0.7613062  -0.58300925], \n",
            " and b = -0.025999105893764973. \n"
          ],
          "name": "stdout"
        }
      ]
    },
    {
      "cell_type": "code",
      "metadata": {
        "id": "48_zzdKeM0KY",
        "colab_type": "code",
        "outputId": "b9fc9faf-074f-4648-ac83-5c1afe565515",
        "colab": {
          "base_uri": "https://localhost:8080/",
          "height": 35
        }
      },
      "source": [
        "w = np.random.uniform(-1,1,size=[1,2])\n",
        "b = np.random.uniform(-1,1,size=[1,1])\n",
        "np.array([ [w[0,0],w[0,1]] ]).shape"
      ],
      "execution_count": 0,
      "outputs": [
        {
          "output_type": "execute_result",
          "data": {
            "text/plain": [
              "(1, 2)"
            ]
          },
          "metadata": {
            "tags": []
          },
          "execution_count": 36
        }
      ]
    },
    {
      "cell_type": "code",
      "metadata": {
        "id": "91kzOXot8Y4M",
        "colab_type": "code",
        "outputId": "94b486e3-a5c0-48fb-dc38-abb4eacd8c6d",
        "colab": {
          "base_uri": "https://localhost:8080/",
          "height": 35
        }
      },
      "source": [
        "min_w = minimize( (lambda w: cross_entropy_loss(predicted_y, x, np.array([ [w[0],w[1]] ]),w[2] )),[0,0, 0])\n",
        "print('The optimized values are: w1, w2, b = {}'.format(min_w.x))"
      ],
      "execution_count": 0,
      "outputs": [
        {
          "output_type": "stream",
          "text": [
            "The optimized values are: w1, w2, b = [ 0.76129796 -0.58296354 -0.0260065 ]\n"
          ],
          "name": "stdout"
        }
      ]
    },
    {
      "cell_type": "markdown",
      "metadata": {
        "id": "ps8F7llJ8Y4T",
        "colab_type": "text"
      },
      "source": [
        "# Step-by-Step GD for Logistic Regression"
      ]
    },
    {
      "cell_type": "markdown",
      "metadata": {
        "id": "p69IwHv4NhFs",
        "colab_type": "text"
      },
      "source": [
        "Now we want to do this ourselves, not using the optimizer. \n",
        "\n",
        "We will use a simple GD algorithm which basically does the following:\n",
        "\n",
        "w_1  -> w_1 - alpha * dL/dw_1\n",
        "\n",
        "w_2  -> w_2 - alpha * dL/dw_2"
      ]
    }
  ]
}